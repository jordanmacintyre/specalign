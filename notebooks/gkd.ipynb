{
 "cells": [
  {
   "cell_type": "code",
   "execution_count": null,
   "id": "7b382edf",
   "metadata": {},
   "outputs": [],
   "source": [
    "from datasets import Dataset\n",
    "from trl import GKDConfig, GKDTrainer, setup_chat_format\n",
    "import torch\n",
    "from transformers import AutoTokenizer, AutoModelForCausalLM\n",
    "from accelerate import Accelerator\n",
    "\n",
    "# must be set before importing torch/transformers\n",
    "import os\n",
    "\n",
    "# If reserved unallocated memory is large\n",
    "os.environ[\"PYTORCH_CUDA_ALLOC_CONF\"] = \"expandable_segments:True,max_split_size_mb:64\"\n",
    "\n",
    "# (optional) avoid the fork/threads warning and nested parallelism\n",
    "os.environ.setdefault(\"TOKENIZERS_PARALLELISM\", \"false\")\n",
    "\n",
    "# Ensures that only 1 GPU is visible to torch/accelerate/transformers/trl\n",
    "# os.environ[\"CUDA_DEVICE_ORDER\"] = \"PCI_BUS_ID\"\n",
    "# os.environ[\"CUDA_VISIBLE_DEVICES\"] = \"1\"\n",
    "\n",
    "torch.backends.cuda.matmul.allow_tf32 = True\n",
    "torch.set_float32_matmul_precision(\"high\")"
   ]
  },
  {
   "cell_type": "code",
   "execution_count": null,
   "id": "f9509b01",
   "metadata": {},
   "outputs": [],
   "source": [
    "NUM_DUMMY_SAMPLES = 100\n",
    "\n",
    "model_id = \"HuggingFaceTB/SmolLM2-135M-Instruct\"\n",
    "teacher_id = \"HuggingFaceTB/SmolLM2-1.7B-Instruct\"\n",
    "\n",
    "tokenizer = AutoTokenizer.from_pretrained(model_id, use_fast=True)\n",
    "\n",
    "\n",
    "# The model to optimise\n",
    "student = AutoModelForCausalLM.from_pretrained(\n",
    "    model_id,\n",
    "    torch_dtype=torch.bfloat16,\n",
    "    device_map=\"cuda:1\",\n",
    ")\n",
    "\n",
    "if not getattr(tokenizer, \"chat_template\", None):\n",
    "    student, tokenizer = setup_chat_format(student, tokenizer)\n",
    "\n",
    "if tokenizer.pad_token is None:\n",
    "    tokenizer.pad_token = tokenizer.eos_token\n",
    "\n",
    "# The teacher model to calculate the KL divergence against\n",
    "teacher = AutoModelForCausalLM.from_pretrained(\n",
    "    teacher_id,\n",
    "    torch_dtype=torch.bfloat16,\n",
    "    device_map=\"cuda:1\",\n",
    ")"
   ]
  },
  {
   "cell_type": "code",
   "execution_count": null,
   "id": "e3f7970f",
   "metadata": {},
   "outputs": [],
   "source": [
    "train_dataset = Dataset.from_dict(\n",
    "    {\n",
    "        \"messages\": [\n",
    "            [\n",
    "                {\"role\": \"user\", \"content\": \"Hi, how are you?\"},\n",
    "                {\"role\": \"assistant\", \"content\": \"I'm great thanks\"},\n",
    "            ]\n",
    "        ]\n",
    "        * NUM_DUMMY_SAMPLES\n",
    "    }\n",
    ")\n",
    "eval_dataset = Dataset.from_dict(\n",
    "    {\n",
    "        \"messages\": [\n",
    "            [\n",
    "                {\"role\": \"user\", \"content\": \"What colour is the sky?\"},\n",
    "                {\"role\": \"assistant\", \"content\": \"The sky is blue\"},\n",
    "            ]\n",
    "        ]\n",
    "        * NUM_DUMMY_SAMPLES\n",
    "    }\n",
    ")"
   ]
  },
  {
   "cell_type": "code",
   "execution_count": null,
   "id": "5b9a540e",
   "metadata": {},
   "outputs": [],
   "source": [
    "training_args = GKDConfig(\n",
    "    output_dir=\"gkd-smol\",\n",
    "    per_device_train_batch_size=5,\n",
    "    gradient_accumulation_steps=5,\n",
    "    learning_rate=5e-4,\n",
    "    num_train_epochs=10,\n",
    "    logging_steps=5,\n",
    "    eval_steps=5,\n",
    "    eval_strategy=\"epoch\",\n",
    "    # do_eval=True,\n",
    "    save_steps=50,\n",
    "    seq_kd=True,  # sequence-level distillation\n",
    "    lmbda=1,  # probability of on-policy generation\n",
    ")"
   ]
  },
  {
   "cell_type": "code",
   "execution_count": null,
   "id": "47a6e8e5",
   "metadata": {},
   "outputs": [],
   "source": [
    "trainer = GKDTrainer(\n",
    "    model=student,\n",
    "    teacher_model=teacher,\n",
    "    args=training_args,\n",
    "    processing_class=tokenizer,\n",
    "    train_dataset=train_dataset,\n",
    "    eval_dataset=eval_dataset,\n",
    ")\n",
    "\n",
    "trainer.train()"
   ]
  },
  {
   "cell_type": "code",
   "execution_count": null,
   "id": "45dcb0ef",
   "metadata": {},
   "outputs": [],
   "source": []
  }
 ],
 "metadata": {
  "kernelspec": {
   "display_name": "specalign",
   "language": "python",
   "name": "python3"
  },
  "language_info": {
   "codemirror_mode": {
    "name": "ipython",
    "version": 3
   },
   "file_extension": ".py",
   "mimetype": "text/x-python",
   "name": "python",
   "nbconvert_exporter": "python",
   "pygments_lexer": "ipython3",
   "version": "3.12.11"
  }
 },
 "nbformat": 4,
 "nbformat_minor": 5
}
