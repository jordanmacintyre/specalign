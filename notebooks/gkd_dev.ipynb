{
 "cells": [
  {
   "cell_type": "code",
   "execution_count": 1,
   "id": "554304bf",
   "metadata": {},
   "outputs": [],
   "source": [
    "# 1.) Generate sequence of length k using Student model\n",
    "# 2.) Evaluate drafted sequence using Teacher model\n",
    "# 3.) Evaluate drafted sequence using Student model\n",
    "# 4.) Calculate loss\n",
    "# 5.) Backprop"
   ]
  },
  {
   "cell_type": "code",
   "execution_count": 38,
   "id": "941a72c3",
   "metadata": {},
   "outputs": [],
   "source": [
    "from transformers import AutoModelForCausalLM, AutoTokenizer\n",
    "from transformers.utils import logging\n",
    "import matplotlib.pyplot as plt\n",
    "from datasets import load_dataset\n",
    "\n",
    "logging.set_verbosity_error()\n",
    "\n",
    "import torch\n",
    "from torch.utils.data import DataLoader"
   ]
  },
  {
   "cell_type": "code",
   "execution_count": 3,
   "id": "c0268f00",
   "metadata": {},
   "outputs": [],
   "source": [
    "student_model_id = \"Qwen/Qwen2.5-0.5B-Instruct\"\n",
    "teacher_model_id = \"Qwen/Qwen2.5-1.5B-Instruct\"\n",
    "\n",
    "tokenizer = AutoTokenizer.from_pretrained(student_model_id)\n",
    "pad_token_id = tokenizer.pad_token_id\n",
    "eos_token_id = tokenizer.eos_token_id\n",
    "\n",
    "student = AutoModelForCausalLM.from_pretrained(\n",
    "    student_model_id,\n",
    "    attn_implementation=\"flash_attention_2\",\n",
    "    torch_dtype=torch.float16,\n",
    "    device_map=\"cuda:1\",\n",
    ")\n",
    "student.config.pad_token_id = pad_token_id\n",
    "student.config.eos_token_id = eos_token_id\n",
    "\n",
    "teacher = AutoModelForCausalLM.from_pretrained(\n",
    "    teacher_model_id,\n",
    "    attn_implementation=\"flash_attention_2\",\n",
    "    torch_dtype=torch.float16,\n",
    "    device_map=\"cuda:1\",\n",
    ").eval()\n",
    "teacher.config.pad_token_id = pad_token_id\n",
    "teacher.config.eos_token_id = eos_token_id"
   ]
  },
  {
   "cell_type": "code",
   "execution_count": 4,
   "id": "a9a96b73",
   "metadata": {},
   "outputs": [],
   "source": [
    "ds = load_dataset(\"abisee/cnn_dailymail\", \"3.0.0\", split=\"train[:1%]\")"
   ]
  },
  {
   "cell_type": "code",
   "execution_count": null,
   "id": "ec4b4691",
   "metadata": {},
   "outputs": [],
   "source": [
    "# ================\n",
    "# Need to find a way to tokenize text that preserves the attention mask while also\n",
    "# making a clear END to the user input. Currently, the models are just completing\n",
    "# whatever the input text was if the tokenizer truncates.\n",
    "# ================\n",
    "def tokenize_function(examples, tokenizer, max_length):\n",
    "    end_marker = \"\"\n",
    "    end_ids = tokenizer(end_marker, add_special_tokens=False)[\"input_ids\"]\n",
    "\n",
    "    prompt = [\n",
    "        {\"role\": \"system\", \"content\": \"You are a concise, factual assistant.\"},\n",
    "        {\"role\": \"user\", \"content\": \"Summarize the following text.\"},\n",
    "        {\"role\": \"user\", \"content\": examples[\"article\"]},\n",
    "    ]\n",
    "\n",
    "    tokenized_prompt = tokenizer.apply_chat_template(\n",
    "        prompt,\n",
    "        add_generation_prompt=True,\n",
    "        tokenize=True,\n",
    "        return_dict=True,\n",
    "        # enable_thinking=False,\n",
    "        padding=\"max_length\",\n",
    "        truncation=True,\n",
    "        max_length=max_length - len(end_ids),\n",
    "        return_tensors=None,\n",
    "    )\n",
    "\n",
    "    return {\n",
    "        \"input_ids\": tokenized_prompt[\"input_ids\"],\n",
    "        \"attention_mask\": tokenized_prompt[\"attention_mask\"],\n",
    "    }\n",
    "\n",
    "\n",
    "tokenized_dataset = ds.map(\n",
    "    tokenize_function,\n",
    "    fn_kwargs={\"tokenizer\": tokenizer, \"max_length\": 512},\n",
    "    batched=False,\n",
    "    remove_columns=ds.column_names,\n",
    ")\n",
    "\n",
    "# 2) Tell datasets to return torch tensors on indexing\n",
    "tokenized_dataset = tokenized_dataset.with_format(\n",
    "    type=\"torch\",\n",
    "    columns=[\"input_ids\", \"attention_mask\"],\n",
    ")"
   ]
  },
  {
   "cell_type": "code",
   "execution_count": 78,
   "id": "7ede4166",
   "metadata": {},
   "outputs": [],
   "source": [
    "# Will use this for training loop\n",
    "dl = DataLoader(tokenized_dataset, batch_size=10, shuffle=True, drop_last=True)"
   ]
  },
  {
   "cell_type": "code",
   "execution_count": 79,
   "id": "ddb0ed84",
   "metadata": {},
   "outputs": [],
   "source": [
    "# 1. Generate sequence with length k from Student model\n",
    "k = 64\n",
    "\n",
    "# Sample per iteration\n",
    "# torch.distributions.uniform.Uniform(0.75, 1.25).sample()\n",
    "\n",
    "for batch in dl:\n",
    "    with torch.no_grad():\n",
    "        outputs = student.generate(\n",
    "            input_ids=batch[\"input_ids\"].to(student.device),\n",
    "            attention_mask=batch[\"attention_mask\"].to(student.device),\n",
    "            max_new_tokens=k,\n",
    "            do_sample=False,\n",
    "            use_cache=True,\n",
    "            return_dict_in_generate=False,\n",
    "            output_scores=False,\n",
    "        )\n",
    "    break"
   ]
  },
  {
   "cell_type": "code",
   "execution_count": null,
   "id": "d03fbbdb",
   "metadata": {},
   "outputs": [
    {
     "name": "stdout",
     "output_type": "stream",
     "text": [
      "<|im_start|>system\n",
      "You are a concise, factual assistant.<|im_end|>\n",
      "<|im_start|>user\n",
      "Summarize the following text.<|im_end|>\n",
      "<|im_start|>user\n",
      "GEROLSTEIN, Germany -- Mineral water company Gerolsteiner have decided to drop their sponsorship of the German ProTour cycling team, which expires at the end of the 2008 season. German rider Stefan Schumacher is a member of the Gerolsteiner team. Gerolsteiner, who have been team sponsors since 1998, said there was a change in marketing strategy. Gerolsteiner has invested around $12 million annually in the team, which includes riders Stefan Schumacher, Fabian Wegmann, Markus Fothen and Robert Foerster. Gerolsteiner said on Tuesday they were no longer reaching their targeted audience through cycling because it was changing from being solely a producer of mineral water to a supplier of nonalcoholic drinks. Gerolsteiner team chief Hans-Michael Holczer was deeply upset by the news. \"There were tears in my eyes,\" said Holczer. The German Cycling Federation (BDR) said they would help the team to find a new sponsor. \"It is not an entirely unexpected decision. After such a long collaboration, you notice changes in your partner,\" said Holczer, who will begin the hunt for a new sponsor. \"We have one of the best teams on the market with a national and international reputation.\" The T-Mobile cycling team has fired rider Lorenzo Bernucci after his positive doping test at the Tour of Germany last month. Bernucci violated the team's code of conduct and was removed from T-Mobile's roster at the Spanish Vuelta, the team said on Tuesday. He tested positive for a non-amphetamine appetite suppressant. Bernucci is licensed by the Monaco cycling federation, which will be responsible for further investigation and possible additional sanctions, T-Mobile said. He tested positive on August 15 for the substance sibutramine, an appetite suppressant sold under various brand names, such as Reductil and Ectiva. The world governing body of cycling, UCI, informed T-Mobile of Bernucci's positive test. Bernucci told team management that he had been using Ectiva for four years and had purchased it over the counter at a pharmacy in Italy, not knowing it been added to the list of prohibited substances by the World Anti-Doping Agency, T-Mobile said. According to UCI rules, a first violation for sibutramine\n",
      " can result in a fine of up to €30,000 or a suspension of the team for six months.<|im_end|><|endoftext|><|endoftext|><|endoftext|><|endoftext|><|endoftext|><|endoftext|><|endoftext|><|endoftext|><|endoftext|><|endoftext|><|endoftext|><|endoftext|><|endoftext|><|endoftext|><|endoftext|><|endoftext|><|endoftext|><|endoftext|><|endoftext|><|endoftext|><|endoftext|><|endoftext|><|endoftext|><|endoftext|><|endoftext|><|endoftext|><|endoftext|><|endoftext|><|endoftext|><|endoftext|><|endoftext|><|endoftext|><|endoftext|><|endoftext|><|endoftext|><|endoftext|><|endoftext|><|endoftext|>\n"
     ]
    }
   ],
   "source": [
    "print(tokenizer.decode(outputs[0][: batch[\"input_ids\"].shape[1]]))\n",
    "print(tokenizer.decode(outputs[0][batch[\"input_ids\"].shape[1] :]))"
   ]
  },
  {
   "cell_type": "code",
   "execution_count": 16,
   "id": "eddf4bc3",
   "metadata": {},
   "outputs": [],
   "source": [
    "# 2.) Evaluate drafted sequence using Teacher model\n",
    "# Use up to k-1, teacher and student will predict next token (we already have the label)\n",
    "student_draft = outputs[:, :-1]\n",
    "with torch.no_grad():\n",
    "    logits_t = teacher(student_draft).logits[:, -k:, :]"
   ]
  },
  {
   "cell_type": "code",
   "execution_count": 17,
   "id": "3f3d70e6",
   "metadata": {},
   "outputs": [],
   "source": [
    "# 3.) Evaluate drafted sequence using Student model\n",
    "logits_s = student(student_draft).logits[:, -k:, :]"
   ]
  },
  {
   "cell_type": "code",
   "execution_count": 18,
   "id": "35a3f4c2",
   "metadata": {},
   "outputs": [],
   "source": [
    "# 4.) Calculate loss\n",
    "T = 1.0\n",
    "logp_s = torch.log_softmax(logits_s / T, dim=-1)\n",
    "p_t = torch.softmax(logits_t / T, dim=-1)\n",
    "kd_tok = torch.nn.functional.kl_div(logp_s, p_t, reduction=\"none\") * (T * T)\n",
    "kd_seq = kd_tok.sum(dim=-1)\n",
    "loss = kd_seq.mean()"
   ]
  },
  {
   "cell_type": "code",
   "execution_count": 19,
   "id": "2ae95fbe",
   "metadata": {},
   "outputs": [],
   "source": [
    "# 5.) Backprop\n",
    "loss.backward()"
   ]
  },
  {
   "cell_type": "code",
   "execution_count": 23,
   "id": "14b0f486",
   "metadata": {},
   "outputs": [
    {
     "data": {
      "image/png": "[encoded data removed]",
      "text/plain": [
       "<Figure size 640x480 with 1 Axes>"
      ]
     },
     "metadata": {},
     "output_type": "display_data"
    }
   ],
   "source": [
    "N = 25\n",
    "topN_t, topN_idx = torch.topk(logits_t.cpu(), N)\n",
    "topN_s = torch.gather(logits_s.detach().cpu(), dim=2, index=topN_idx)\n",
    "\n",
    "plt.title(f\"Teacher vs. Student top{N} logit distibution\")\n",
    "plt.plot(topN_t[0, 0, :], \"-o\", label=\"Teacher\")\n",
    "plt.plot(topN_s[0, 0, :], \"-o\", label=\"Student\")\n",
    "plt.legend()\n",
    "plt.show()"
   ]
  },
  {
   "cell_type": "code",
   "execution_count": 1,
   "id": "c7d2d7d6",
   "metadata": {},
   "outputs": [],
   "source": [
    "# topN_t, topN_s"
   ]
  }
 ],
 "metadata": {
  "kernelspec": {
   "display_name": "specalign",
   "language": "python",
   "name": "python3"
  },
  "language_info": {
   "codemirror_mode": {
    "name": "ipython",
    "version": 3
   },
   "file_extension": ".py",
   "mimetype": "text/x-python",
   "name": "python",
   "nbconvert_exporter": "python",
   "pygments_lexer": "ipython3",
   "version": "3.12.11"
  }
 },
 "nbformat": 4,
 "nbformat_minor": 5
}
