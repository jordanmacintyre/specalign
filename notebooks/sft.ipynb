{
 "cells": [
  {
   "cell_type": "code",
   "execution_count": null,
   "id": "25efb112",
   "metadata": {},
   "outputs": [],
   "source": [
    "from trl import SFTTrainer, SFTConfig\n",
    "from transformers import AutoModelForSeq2SeqLM\n",
    "from datasets import load_dataset\n",
    "import torch\n",
    "\n",
    "# must be set before importing torch/transformers\n",
    "import os\n",
    "\n",
    "# If reserved unallocated memory is large\n",
    "os.environ[\"PYTORCH_CUDA_ALLOC_CONF\"] = \"expandable_segments:True,max_split_size_mb:64\"\n",
    "\n",
    "# (optional) avoid the fork/threads warning and nested parallelism\n",
    "os.environ.setdefault(\"TOKENIZERS_PARALLELISM\", \"false\")\n",
    "\n",
    "# Ensures that only 1 GPU is visible to torch/accelerate/transformers/trl\n",
    "os.environ[\"CUDA_DEVICE_ORDER\"] = \"PCI_BUS_ID\"\n",
    "os.environ[\"CUDA_VISIBLE_DEVICES\"] = \"1\"\n",
    "\n",
    "torch.backends.cuda.matmul.allow_tf32 = True\n",
    "torch.set_float32_matmul_precision(\"high\")"
   ]
  },
  {
   "cell_type": "code",
   "execution_count": null,
   "id": "f33f2135",
   "metadata": {},
   "outputs": [],
   "source": [
    "model_id = \"google/t5gemma-s-s-ul2-it\"\n",
    "\n",
    "model = AutoModelForSeq2SeqLM.from_pretrained(\n",
    "    model_id,\n",
    "    attn_implementation=\"eager\",\n",
    "    torch_dtype=torch.bfloat16,\n",
    "    device_map=\"auto\",\n",
    ")\n",
    "\n",
    "dataset_name = \"trl-lib/Capybara\"\n",
    "\n",
    "train = load_dataset(dataset_name, split=\"train[:5%]\")\n",
    "\n",
    "args = SFTConfig(\n",
    "    num_train_epochs=1,\n",
    "    per_device_train_batch_size=1,\n",
    "    max_length=256,\n",
    "    remove_unused_columns=True,\n",
    ")\n",
    "\n",
    "trainer = SFTTrainer(\n",
    "    args=args,\n",
    "    model=model,\n",
    "    train_dataset=train,\n",
    ")\n",
    "trainer.train()"
   ]
  },
  {
   "cell_type": "code",
   "execution_count": null,
   "id": "18a77f6f",
   "metadata": {},
   "outputs": [],
   "source": []
  }
 ],
 "metadata": {
  "kernelspec": {
   "display_name": "specalign",
   "language": "python",
   "name": "python3"
  },
  "language_info": {
   "codemirror_mode": {
    "name": "ipython",
    "version": 3
   },
   "file_extension": ".py",
   "mimetype": "text/x-python",
   "name": "python",
   "nbconvert_exporter": "python",
   "pygments_lexer": "ipython3",
   "version": "3.12.11"
  }
 },
 "nbformat": 4,
 "nbformat_minor": 5
}
