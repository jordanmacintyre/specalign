{
 "cells": [
  {
   "cell_type": "code",
   "execution_count": 1,
   "id": "e008bed6",
   "metadata": {},
   "outputs": [],
   "source": [
    "from transformers import AutoTokenizer, T5ForConditionalGeneration"
   ]
  },
  {
   "cell_type": "code",
   "execution_count": 2,
   "id": "fe46ff3a",
   "metadata": {},
   "outputs": [],
   "source": [
    "model_id = \"google/flan-t5-small\"\n",
    "tokenizer = AutoTokenizer.from_pretrained(model_id)\n",
    "model = T5ForConditionalGeneration.from_pretrained(model_id)"
   ]
  },
  {
   "cell_type": "code",
   "execution_count": null,
   "id": "4edb62c3",
   "metadata": {},
   "outputs": [
    {
     "name": "stdout",
     "output_type": "stream",
     "text": [
      "Loss tensor(16.6145, grad_fn=<NllLossBackward0>)\n",
      "Logits tensor([[  3,   7, 385,   1,   7,   3,   3,   7,   3]])\n"
     ]
    }
   ],
   "source": [
    "# training\n",
    "input_ids = tokenizer(\n",
    "    \"The <extra_id_0> walks in <extra_id_1> park\",\n",
    "    return_tensors=\"pt\",\n",
    ").input_ids\n",
    "\n",
    "labels = tokenizer(\n",
    "    \"<extra_id_0> cute dog <extra_id_1> the <extra_id_2>\",\n",
    "    return_tensors=\"pt\",\n",
    ").input_ids\n",
    "\n",
    "outputs = model(input_ids=input_ids, labels=labels)\n",
    "loss = outputs.loss\n",
    "logits = outputs.logits\n",
    "print(\"Loss:\", loss)\n",
    "print(\"Logits:\", logits.argmax(dim=-1))"
   ]
  },
  {
   "cell_type": "code",
   "execution_count": 11,
   "id": "dbeac0e3",
   "metadata": {},
   "outputs": [
    {
     "name": "stdout",
     "output_type": "stream",
     "text": [
      "T5 is a encoder-decoder transformer available in a range of sizes from\n"
     ]
    }
   ],
   "source": [
    "# inference\n",
    "prompt = \"summarize: T5 is a encoder-decoder transformer available in a range of sizes from 60M to 11B parameters. It is designed to handle a wide range of NLP tasks by treating them all as text-to-text problems. This eliminates the need for task-specific architectures because T5 converts every NLP task into a text generation task.\"\n",
    "\n",
    "input_ids = tokenizer(prompt, return_tensors=\"pt\").input_ids\n",
    "outputs = model.generate(input_ids)\n",
    "print(tokenizer.decode(outputs[0], skip_special_tokens=True))"
   ]
  },
  {
   "cell_type": "code",
   "execution_count": null,
   "id": "2872a402",
   "metadata": {},
   "outputs": [],
   "source": []
  }
 ],
 "metadata": {
  "kernelspec": {
   "display_name": "specalign",
   "language": "python",
   "name": "python3"
  },
  "language_info": {
   "codemirror_mode": {
    "name": "ipython",
    "version": 3
   },
   "file_extension": ".py",
   "mimetype": "text/x-python",
   "name": "python",
   "nbconvert_exporter": "python",
   "pygments_lexer": "ipython3",
   "version": "3.12.11"
  }
 },
 "nbformat": 4,
 "nbformat_minor": 5
}
